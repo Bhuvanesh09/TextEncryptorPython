{
 "cells": [
  {
   "cell_type": "code",
   "execution_count": 17,
   "metadata": {},
   "outputs": [],
   "source": [
    "import os, random, struct , hashlib , sys\n",
    "from Crypto.Cipher import AES\n",
    "\n",
    "IV = 16 * '\\x10'\n",
    "mode = AES.MODE_CBC\n",
    "option = sys.argv[1]\n",
    "password = sys.argv[2]\n",
    "password = \"kitty\"\n",
    "key=hashlib.sha256(password.encode('utf-8')).digest()"
   ]
  },
  {
   "cell_type": "code",
   "execution_count": 2,
   "metadata": {},
   "outputs": [],
   "source": [
    "\n",
    "def encrypt_file(key, in_filename, out_filename=None, chunksize=64*1024):\n",
    "    \"\"\" Encrypts a file using AES (CBC mode) with the\n",
    "        given key.\n",
    "\n",
    "        key:\n",
    "            The encryption key - a string that must be\n",
    "            either 16, 24 or 32 bytes long. Longer keys\n",
    "            are more secure.\n",
    "\n",
    "        in_filename:\n",
    "            Name of the input file\n",
    "\n",
    "        out_filename:\n",
    "            If None, '<in_filename>.enc' will be used.\n",
    "\n",
    "        chunksize:\n",
    "            Sets the size of the chunk which the function\n",
    "            uses to read and encrypt the file. Larger chunk\n",
    "            sizes can be faster for some files and machines.\n",
    "            chunksize must be divisible by 16.\n",
    "    \"\"\"\n",
    "    if not out_filename:\n",
    "        out_filename = in_filename + '.enc'\n",
    "\n",
    "    iv = ''.join(chr(random.randint(0, 0xFF)) for i in range(16))\n",
    "    encryptor = AES.new(key, AES.MODE_CBC, IV=IV)\n",
    "    filesize = os.path.getsize(in_filename)\n",
    "\n",
    "    with open(in_filename, 'rb') as infile:\n",
    "        with open(out_filename, 'wb') as outfile:\n",
    "            outfile.write(struct.pack('<Q', filesize))\n",
    "            \n",
    "\n",
    "            while True:\n",
    "                chunk = infile.read(chunksize)\n",
    "                if len(chunk) == 0:\n",
    "                    break\n",
    "                elif len(chunk) % 16 != 0:\n",
    "                    chunk += (' ').encode('utf-8') * (16 - len(chunk) % 16)\n",
    "\n",
    "                outfile.write(encryptor.encrypt(chunk))"
   ]
  },
  {
   "cell_type": "code",
   "execution_count": 3,
   "metadata": {},
   "outputs": [],
   "source": [
    "def decrypt_file(key, in_filename, out_filename=None, chunksize=64*1024):\n",
    "    \"\"\" Decrypts a file using AES (CBC mode) with the\n",
    "        given key. Parameters are similar to encrypt_file,\n",
    "        with one difference: out_filename, if not supplied\n",
    "        will be in_filename without its last extension\n",
    "        (i.e. if in_filename is 'aaa.zip.enc' then\n",
    "        out_filename will be 'aaa.zip')\n",
    "    \"\"\"\n",
    "    if not out_filename:\n",
    "        out_filename = os.path.splitext(in_filename)[0]\n",
    "\n",
    "    with open(in_filename, 'rb') as infile:\n",
    "        origsize = struct.unpack('<Q', infile.read(struct.calcsize('Q')))[0]\n",
    "        decryptor = AES.new(key, AES.MODE_CBC, IV=IV)\n",
    "\n",
    "        with open(out_filename, 'wb') as outfile:\n",
    "            while True:\n",
    "                chunk = infile.read(chunksize)\n",
    "                if len(chunk) == 0:\n",
    "                    break\n",
    "                outfile.write(decryptor.decrypt(chunk))\n",
    "\n",
    "            outfile.truncate(origsize)\n"
   ]
  },
  {
   "cell_type": "code",
   "execution_count": 16,
   "metadata": {},
   "outputs": [
    {
     "name": "stdout",
     "output_type": "stream",
     "text": [
      "Working in directory : /home/bhuvanesh/Documents/Notes/test\n"
     ]
    }
   ],
   "source": [
    "os.chdir('/home/bhuvanesh/Documents/Notes/test')\n",
    "print(\"Working in directory : \"+ os.getcwd() )"
   ]
  },
  {
   "cell_type": "code",
   "execution_count": 7,
   "metadata": {},
   "outputs": [
    {
     "data": {
      "text/plain": [
       "['testNote.md']"
      ]
     },
     "execution_count": 7,
     "metadata": {},
     "output_type": "execute_result"
    }
   ],
   "source": [
    "print(\"Current Directory Contents : \")\n",
    "os.listdir()"
   ]
  },
  {
   "cell_type": "code",
   "execution_count": null,
   "metadata": {},
   "outputs": [],
   "source": [
    "if option==e:\n",
    "    for i in os.listdir():\n",
    "        if i.endswith(\".md\"):\n",
    "            print(\"Encrypting : \" + i )\n",
    "            encrypt_file(key,i)\n",
    "elif option==d\n",
    "    for i in os.listdir():\n",
    "        if i.endswith(\".enc\"):\n",
    "            print(\"Decrypting : \" + i )\n",
    "            decrypt_file(key,i)"
   ]
  },
  {
   "cell_type": "code",
   "execution_count": null,
   "metadata": {},
   "outputs": [],
   "source": [
    "print(\"Current Directory Contents : \")\n",
    "os.listdir()"
   ]
  },
  {
   "cell_type": "code",
   "execution_count": 24,
   "metadata": {},
   "outputs": [
    {
     "data": {
      "text/plain": [
       "False"
      ]
     },
     "execution_count": 24,
     "metadata": {},
     "output_type": "execute_result"
    }
   ],
   "source": [
    "option=='e'"
   ]
  }
 ],
 "metadata": {
  "kernelspec": {
   "display_name": "Python 3",
   "language": "python",
   "name": "python3"
  },
  "language_info": {
   "codemirror_mode": {
    "name": "ipython",
    "version": 3
   },
   "file_extension": ".py",
   "mimetype": "text/x-python",
   "name": "python",
   "nbconvert_exporter": "python",
   "pygments_lexer": "ipython3",
   "version": "3.7.3"
  }
 },
 "nbformat": 4,
 "nbformat_minor": 2
}
